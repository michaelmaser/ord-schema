{
 "cells": [
  {
   "cell_type": "markdown",
   "metadata": {},
   "source": [
    "## Expanding the Medicinal Chemist Toolbox: Comparing Seven C(sp2)-C(sp3) Cross-Coupling Methods by Library Synthesis"
   ]
  },
  {
   "cell_type": "markdown",
   "metadata": {},
   "source": [
    "DOI: 10.1021/acsmedchemlett.0c00093"
   ]
  },
  {
   "cell_type": "markdown",
   "metadata": {},
   "source": [
    "Amanda W. Dombrowski, Nathan J. Gesmundo, Ana L. Aguirre, Katerina A. Sarris, Jonathon M. Young, Andrew R. Bogdan, M. Cynthia Martin, Shasline Gedeon, and Ying Wang *ACS Med. Chem. Lett.* **2020**, *11*, 4, 597-604."
   ]
  },
  {
   "cell_type": "markdown",
   "metadata": {
    "colab_type": "text",
    "id": "QpV2Y-uBQJog"
   },
   "source": [
    "Import schema and helper functions"
   ]
  },
  {
   "cell_type": "code",
   "execution_count": 1,
   "metadata": {
    "colab": {
     "base_uri": "https://localhost:8080/",
     "height": 1000
    },
    "colab_type": "code",
    "id": "kqbqnfM06xsH",
    "outputId": "bca6a12e-ff4a-4cc9-900a-992b5205cd58"
   },
   "outputs": [],
   "source": [
    "try:\n",
    "    import ord_schema\n",
    "    import rdkit\n",
    "except:\n",
    "    import sys\n",
    "    !wget -c https://repo.continuum.io/miniconda/Miniconda3-latest-Linux-x86_64.sh\n",
    "    !time bash ./Miniconda3-latest-Linux-x86_64.sh -b -f -p /usr/local\n",
    "    !time conda install -q -y -c rdkit rdkit\n",
    "    !time conda install -q -y -c anaconda protobuf\n",
    "    !git clone https://github.com/Open-Reaction-Database/ord-schema.git\n",
    "    %cd ord-schema\n",
    "    !python setup.py install\n",
    "    sys.path.append('/usr/local/lib/python3.7/site-packages/')"
   ]
  },
  {
   "cell_type": "code",
   "execution_count": 2,
   "metadata": {
    "colab": {},
    "colab_type": "code",
    "id": "WNYlhmmX64wp"
   },
   "outputs": [],
   "source": [
    "import ord_schema\n",
    "from datetime import datetime\n",
    "from ord_schema.proto import dataset_pb2\n",
    "from ord_schema.proto import reaction_pb2\n",
    "from ord_schema.units import UnitResolver\n",
    "from ord_schema import validations\n",
    "from ord_schema import message_helpers\n",
    "\n",
    "unit_resolver = UnitResolver()"
   ]
  },
  {
   "cell_type": "code",
   "execution_count": 3,
   "metadata": {
    "colab": {},
    "colab_type": "code",
    "id": "NxeMedxRRQUq"
   },
   "outputs": [],
   "source": [
    "from tqdm import tqdm"
   ]
  }
 ],
 "metadata": {
  "kernelspec": {
   "display_name": "Python 3",
   "language": "python",
   "name": "python3"
  },
  "language_info": {
   "codemirror_mode": {
    "name": "ipython",
    "version": 3
   },
   "file_extension": ".py",
   "mimetype": "text/x-python",
   "name": "python",
   "nbconvert_exporter": "python",
   "pygments_lexer": "ipython3",
   "version": "3.7.6"
  }
 },
 "nbformat": 4,
 "nbformat_minor": 4
}
